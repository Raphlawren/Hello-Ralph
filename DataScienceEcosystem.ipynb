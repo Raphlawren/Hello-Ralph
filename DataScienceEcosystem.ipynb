{
  "nbformat": 4,
  "nbformat_minor": 0,
  "metadata": {
    "colab": {
      "provenance": []
    },
    "kernelspec": {
      "name": "python3",
      "display_name": "Python 3"
    },
    "language_info": {
      "name": "python"
    }
  },
  "cells": [
    {
      "cell_type": "markdown",
      "source": [
        "# **Data Science Tools and Ecosystem**"
      ],
      "metadata": {
        "id": "Uq552c2SzJNT"
      }
    },
    {
      "cell_type": "markdown",
      "source": [
        "## In this notebook, Data Science Tools and Ecosystem are summarized."
      ],
      "metadata": {
        "id": "Qv8rTgKL1tVb"
      }
    },
    {
      "cell_type": "markdown",
      "source": [
        "**Objectives:** \n",
        "+ R Language\n",
        "+ Python\n",
        "+ SQL\n",
        "+ Java\n",
        "+ Julia"
      ],
      "metadata": {
        "id": "APHWiIVe8-iS"
      }
    },
    {
      "cell_type": "markdown",
      "source": [
        "Some of the popular languages that Data Scientists use are:\n",
        "1. Python\n",
        "2. R language\n",
        "3. Java\n",
        "4. C/C++\n",
        "5. Julia"
      ],
      "metadata": {
        "id": "MJsRHN1B23yb"
      }
    },
    {
      "cell_type": "markdown",
      "source": [
        "Some of the commonly used libraries used by data scientists include:\n",
        "1. Numpy\n",
        "2. Pandas\n",
        "3. SciPy\n",
        "4. TensorFlow\n",
        "5. Matplotlib\n",
        "6. PyTorch"
      ],
      "metadata": {
        "id": "mY2NpG6pyFqw"
      }
    },
    {
      "cell_type": "markdown",
      "source": [
        "| Data Science Toools | RStudio | Apache Spark | TensorFlow |\n",
        "|---------------------| --------|--------------| -----------|"
      ],
      "metadata": {
        "id": "nyUUhXj7z1PA"
      }
    },
    {
      "cell_type": "markdown",
      "source": [
        "### Below are a few examples of evaluating arithmetic expressions in Python\n"
      ],
      "metadata": {
        "id": "laGbpx8N1wZO"
      }
    },
    {
      "cell_type": "markdown",
      "source": [
        "This is a simple arithmetic expression to multiply then add integers"
      ],
      "metadata": {
        "id": "j3RcBIz34cNn"
      }
    },
    {
      "cell_type": "code",
      "source": [
        "(3*4)+5"
      ],
      "metadata": {
        "colab": {
          "base_uri": "https://localhost:8080/"
        },
        "id": "Ku9GeW5q4BH-",
        "outputId": "a052efe1-7377-44d5-a047-a3e6b1d1892c"
      },
      "execution_count": 7,
      "outputs": [
        {
          "output_type": "execute_result",
          "data": {
            "text/plain": [
              "17"
            ]
          },
          "metadata": {},
          "execution_count": 7
        }
      ]
    },
    {
      "cell_type": "markdown",
      "source": [
        "This will convert 200 minutes to hours by diving by 60"
      ],
      "metadata": {
        "id": "IUv4MX807DJH"
      }
    },
    {
      "cell_type": "code",
      "source": [
        "# Define the value in minutes\n",
        "minutes = 200\n",
        "\n",
        "# Convert minutes to hours by dividing by 60\n",
        "hours = minutes / 60\n",
        "\n",
        "# Display the result\n",
        "print(f\"{minutes} minutes is equal to {hours} hours\")"
      ],
      "metadata": {
        "colab": {
          "base_uri": "https://localhost:8080/"
        },
        "id": "uTWkhp2H5w7D",
        "outputId": "ad170706-ab8b-425c-ef4c-9adedc18ca97"
      },
      "execution_count": 9,
      "outputs": [
        {
          "output_type": "stream",
          "name": "stdout",
          "text": [
            "200 minutes is equal to 3.3333333333333335 hours\n"
          ]
        }
      ]
    },
    {
      "cell_type": "markdown",
      "source": [
        "##Author\n",
        "Raphael Farodoye"
      ],
      "metadata": {
        "id": "b2f_fSXK-caV"
      }
    },
    {
      "cell_type": "code",
      "source": [],
      "metadata": {
        "id": "tVqgOGEv-3OU"
      },
      "execution_count": null,
      "outputs": []
    }
  ]
}